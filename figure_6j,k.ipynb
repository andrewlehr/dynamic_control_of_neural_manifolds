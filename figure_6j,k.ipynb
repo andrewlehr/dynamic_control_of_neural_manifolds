{
 "cells": [
  {
   "cell_type": "code",
   "execution_count": 3,
   "metadata": {},
   "outputs": [],
   "source": [
    "# Copyright 2023 Andrew Lehr\n",
    "# The MIT LICENSE"
   ]
  },
  {
   "cell_type": "markdown",
   "metadata": {},
   "source": [
    "# Dynamic control of neural manifolds\n",
    "#### Lehr, Kumar, & Tetzlaff\n",
    "\n",
    "####\n",
    "### Code to produce Figure 6j,k"
   ]
  },
  {
   "cell_type": "code",
   "execution_count": 2,
   "metadata": {
    "tags": []
   },
   "outputs": [],
   "source": [
    "import numpy as np\n",
    "import itertools\n",
    "import matplotlib.pyplot as plt\n",
    "from scipy.optimize import curve_fit\n",
    "import os.path as path\n",
    "import os\n",
    "\n",
    "from sklearn import decomposition\n",
    "from sklearn.preprocessing import StandardScaler\n",
    "\n",
    "from scipy.signal import hilbert\n",
    "\n",
    "from submanifolds.utils import get_root\n",
    "from submanifolds.ringnet.network import RingNetworkVariableSpeed\n",
    "from submanifolds.ringnet import Parameters\n",
    "from submanifolds.ringnet import Plot\n",
    "from submanifolds.utils import get_root\n"
   ]
  },
  {
   "cell_type": "markdown",
   "metadata": {},
   "source": [
    "#### Color palettes"
   ]
  },
  {
   "cell_type": "code",
   "execution_count": 3,
   "metadata": {},
   "outputs": [],
   "source": [
    "colors = ['#586ba4', '#f68e5f', '#f5dd90',  \n",
    "          '#067d7a', '#77c1b3',  '#b63653',\n",
    "          '#6d2a2a', '#361a1a', '#191414', '#465865', '#928876',\n",
    "          '#fc9234', '#fd6626', '#44867d', '#177070', '#404a50']"
   ]
  },
  {
   "cell_type": "code",
   "execution_count": 4,
   "metadata": {
    "tags": []
   },
   "outputs": [
    {
     "name": "stdout",
     "output_type": "stream",
     "text": [
      "fig dir exists\n",
      "data dir exists\n"
     ]
    }
   ],
   "source": [
    "root = get_root()\n",
    "save_figs_flag = 0\n",
    "\n",
    "# Figure storage\n",
    "fig_top_dir = root + 'figures/'\n",
    "fig_dir = fig_top_dir + 'figure_6/'\n",
    "\n",
    "# Data storage\n",
    "data_top_dir = root + 'data/'\n",
    "data_dir = data_top_dir + 'simulaneous_control/'\n",
    "\n",
    "if not os.path.isdir(fig_top_dir):\n",
    "    os.mkdir(fig_top_dir)\n",
    "    print('Created ' + fig_top_dir)\n",
    "if not os.path.isdir(fig_dir):\n",
    "    os.mkdir(fig_dir)\n",
    "    print('Created ' + fig_dir)\n",
    "else:\n",
    "    print('fig dir exists')\n",
    "\n",
    "if not os.path.isdir(data_top_dir):\n",
    "    os.mkdir(data_top_dir)\n",
    "    print('Created ' + data_top_dir)\n",
    "if not os.path.isdir(data_dir):\n",
    "    os.mkdir(data_dir)\n",
    "    print('Created ' + data_dir)\n",
    "else:\n",
    "    print('data dir exists')"
   ]
  },
  {
   "cell_type": "code",
   "execution_count": 5,
   "metadata": {
    "tags": []
   },
   "outputs": [],
   "source": [
    "def gaussian(x,a,x0,sigma):\n",
    "    return a*np.exp(-(x-x0)**2/(2*sigma**2))"
   ]
  },
  {
   "cell_type": "code",
   "execution_count": 6,
   "metadata": {},
   "outputs": [],
   "source": [
    "sigma = 0.04\n",
    "shift = 0.04\n",
    "_w_E = 5\n",
    "N = 1000\n",
    "T = 2001 \n",
    "tau = 100 \n",
    "\n",
    "n_seeds = 5\n",
    "seeds = np.arange(n_seeds)\n",
    "\n",
    "# speed control\n",
    "speeds = [1, 2, 5, 10] #np.arange(1,17,3).round(2) #np.arange(1,500,4).round(2) #([2.36] * np.arange(0.5,10,0.25)).round(2)\n",
    "n_speeds = len(speeds)\n",
    "\n",
    "# shape control\n",
    "shapes = np.array([-1.25, -0.625, 0, 0.625, 1.25]) #np.arange(-1.25,1.75,.5) #np.arange(-1.25,1.5,.25) #np.arange(-2.5,3,0.25) #np.arange(-1.5,2.5,0.5) #np.arange(-1,2.5,0.5)\n",
    "n_shapes = len(shapes)\n",
    "t_shape_input = 125\n",
    "sd_shape_input = 12 #25\n",
    "baseline_traj = np.where(shapes==0)[0][0]\n",
    "\n",
    "# subspaces\n",
    "perc_sel = np.arange(0,1,0.1).round(2) #np.arange(0).round(2)\n",
    "n_perc_sel = len(perc_sel)\n",
    "\n",
    "# shape 2 -- activation function maxima\n",
    "r_max_vals = [0] #[-0.5,-0.3,0,0.5,1]\n",
    "n_r_max_vals = len(r_max_vals)\n",
    "r_max = np.ones((T,N))\n",
    "\n",
    "active_neurons = np.zeros((n_perc_sel,n_speeds,n_shapes,n_seeds,T))\n",
    "average_rate = np.zeros((n_perc_sel,n_speeds,n_shapes,n_seeds,T))\n",
    "raster = np.zeros((n_perc_sel,n_speeds,n_shapes,n_seeds,N,T))"
   ]
  },
  {
   "cell_type": "code",
   "execution_count": 7,
   "metadata": {},
   "outputs": [
    {
     "data": {
      "text/plain": [
       "1000"
      ]
     },
     "execution_count": 7,
     "metadata": {},
     "output_type": "execute_result"
    }
   ],
   "source": [
    "n_speeds * n_shapes * n_perc_sel * n_r_max_vals * n_seeds"
   ]
  },
  {
   "cell_type": "code",
   "execution_count": 8,
   "metadata": {},
   "outputs": [
    {
     "data": {
      "text/plain": [
       "[1, 2, 5, 10]"
      ]
     },
     "execution_count": 8,
     "metadata": {},
     "output_type": "execute_result"
    }
   ],
   "source": [
    "speeds"
   ]
  },
  {
   "cell_type": "markdown",
   "metadata": {},
   "source": [
    "## Functions"
   ]
  },
  {
   "cell_type": "code",
   "execution_count": 9,
   "metadata": {},
   "outputs": [],
   "source": [
    "def center_raster(raster, normalize=True):\n",
    "    # center the data\n",
    "    R_centered = raster - raster.mean(axis=1, keepdims=True)\n",
    "    if normalize:\n",
    "        std = raster.std(axis=1, keepdims=True)\n",
    "        R_centered = np.divide(R_centered, std, where=std!=0)\n",
    "    return R_centered"
   ]
  },
  {
   "cell_type": "code",
   "execution_count": 10,
   "metadata": {},
   "outputs": [],
   "source": [
    "def compute_pca(raster, n_components=2, normalize=True, compute_trajectory=False):\n",
    "\n",
    "    # center and normalize, returns \n",
    "    centered_raster = center_raster(raster, normalize)\n",
    "        \n",
    "    # compute PCA\n",
    "    pca = decomposition.PCA(n_components=n_components)\n",
    "    pca.fit(centered_raster.T)\n",
    "\n",
    "    if compute_trajectory:\n",
    "        # project onto PCs\n",
    "        trajectory = project_onto_basis(centered_raster, pca.components_)\n",
    "    else:\n",
    "        trajectory = None\n",
    "    \n",
    "    return pca, trajectory, centered_raster"
   ]
  },
  {
   "cell_type": "code",
   "execution_count": 11,
   "metadata": {},
   "outputs": [],
   "source": [
    "def project_onto_basis(raster, basis):\n",
    "    return basis @ raster"
   ]
  },
  {
   "cell_type": "code",
   "execution_count": 12,
   "metadata": {},
   "outputs": [],
   "source": [
    "def compute_trajectory_perturbation(trajectory_1, trajectory_2, t_center=t_shape_input, t_half_width=2*sd_shape_input):\n",
    "\n",
    "    t0 = int(t_center - t_half_width)\n",
    "    t1 = int(t_center + t_half_width)\n",
    "    input_range = np.arange(t0,t1)\n",
    "    \n",
    "    diff = np.sqrt(np.sum((trajectory_1 - trajectory_2)**2, axis=0))\n",
    "    peak_loc = t0 + np.argmax(diff[input_range])\n",
    "    sign_diff = np.sign(np.sqrt(np.sum(trajectory_1[:,peak_loc]**2)) - np.sqrt(np.sum(trajectory_2[:,peak_loc]**2)))\n",
    "    max_diff = sign_diff * diff[peak_loc] / np.sqrt(np.sum(trajectory_2[:,peak_loc]**2))\n",
    "\n",
    "    return max_diff"
   ]
  },
  {
   "cell_type": "code",
   "execution_count": 13,
   "metadata": {},
   "outputs": [],
   "source": [
    "def compute_trajectory_perturbation_from_raster(raster_1, raster_2, basis, t_center=t_shape_input, t_half_width=2*sd_shape_input):\n",
    "\n",
    "    tol = .00001\n",
    "    if (np.abs(raster_1.mean(axis=1)) > tol).any() or (np.abs(raster_2.mean(axis=1)) > tol).any():\n",
    "        print(\"NOT CENTERED!\")\n",
    "\n",
    "    trajectory_1 = project_onto_basis(raster_1, basis)\n",
    "    trajectory_2 = project_onto_basis(raster_2, basis)\n",
    "\n",
    "    max_diff = compute_trajectory_perturbation(trajectory_1, trajectory_2, t_center, t_half_width)\n",
    "\n",
    "    return max_diff"
   ]
  },
  {
   "cell_type": "code",
   "execution_count": 14,
   "metadata": {},
   "outputs": [],
   "source": [
    "def compute_trajectory_rotational_speed(raster, basis):\n",
    "    trajectory = project_onto_basis(raster, basis)\n",
    "    analytic_signal = hilbert(trajectory)\n",
    "    instantaneous_phase = np.unwrap(np.angle(analytic_signal))\n",
    "    initial_phase = np.min(instantaneous_phase, axis=1, keepdims=True)\n",
    "    instantaneous_phase = instantaneous_phase - initial_phase\n",
    "    n_rotations = np.mean(np.max(instantaneous_phase, axis=1, keepdims=True)/(2*np.pi))\n",
    "    return n_rotations"
   ]
  },
  {
   "cell_type": "code",
   "execution_count": 15,
   "metadata": {},
   "outputs": [],
   "source": [
    "def compute_bump_speed(raster, thr_act = 0, thr_sep = 500):\n",
    "    N = np.shape(raster)[0]\n",
    "    T = np.shape(raster)[1]\n",
    "    bump_center = np.zeros(T)\n",
    "    pos_cumulative = np.zeros(T)\n",
    "    for t in range(T):\n",
    "        neurons_above_thr = np.where(raster[:,t] > thr_act)[0]\n",
    "        if (np.max(neurons_above_thr) - np.min(neurons_above_thr)) > thr_sep:\n",
    "            neurons_above_thr[neurons_above_thr<thr_sep] += N\n",
    "        bump_center[t] = np.mean(neurons_above_thr) % N\n",
    "\n",
    "    bump_speed = (bump_center[1:] - bump_center[:-1]) % N\n",
    "\n",
    "    pos_cumulative[0] = bump_center[0]\n",
    "    for k in range(1,T):\n",
    "        pos_cumulative[k] = bump_center[0] + np.sum(bump_speed[:k])\n",
    "    return bump_center, bump_speed, pos_cumulative"
   ]
  },
  {
   "cell_type": "code",
   "execution_count": 16,
   "metadata": {},
   "outputs": [],
   "source": [
    "def compute_maximum_relative_bump_width(active_neurons, active_neurons_ref, t_center=t_shape_input, t_half_width=2*sd_shape_input):\n",
    "    t0 = int(t_center - t_half_width)\n",
    "    t1 = int(t_center + t_half_width)\n",
    "    input_range = np.arange(t0,t1)\n",
    "    \n",
    "    bump_width = (active_neurons[input_range] - active_neurons_ref[input_range]) / active_neurons_ref[input_range]\n",
    "    max_loc = np.argmax(np.abs(bump_width))\n",
    "    max_rel_width = bump_width[max_loc]\n",
    "    return max_rel_width"
   ]
  },
  {
   "cell_type": "code",
   "execution_count": 17,
   "metadata": {},
   "outputs": [],
   "source": [
    "def compute_subspace_angle(basis_1, basis_2):\n",
    "    u, s, vh = np.linalg.svd(np.dot(basis_1, basis_2.T), full_matrices=True)\n",
    "    angles = np.arccos(np.clip(s, -1, 1))*180/np.pi\n",
    "    return angles.mean()"
   ]
  },
  {
   "cell_type": "code",
   "execution_count": 18,
   "metadata": {},
   "outputs": [],
   "source": [
    "def compute_subspace_angle_from_raster(raster_1, raster_2):\n",
    "    pca_1 = compute_pca(raster_1)[0]\n",
    "    pca_2 = compute_pca(raster_2)[0]\n",
    "    basis_1 = pca_1.components_\n",
    "    basis_2 = pca_2.components_\n",
    "    angle = compute_subspace_angle(basis_1, basis_2)\n",
    "    return angle"
   ]
  },
  {
   "cell_type": "code",
   "execution_count": 19,
   "metadata": {},
   "outputs": [],
   "source": [
    "class Status:\n",
    "    def __init__(self, total_iterations):\n",
    "        self.total_iterations = total_iterations\n",
    "        self.current_iteration = 0\n",
    "\n",
    "    def it(self):\n",
    "        self.current_iteration +=1\n",
    "        print('\\r: ' + str(self.current_iteration) + '/' + str(self.total_iterations), end='')"
   ]
  },
  {
   "cell_type": "code",
   "execution_count": 20,
   "metadata": {},
   "outputs": [],
   "source": [
    "def compile_aggregate_raster(rasters):\n",
    "    shape = np.shape(rasters)\n",
    "    N = np.shape(rasters)[-2]\n",
    "    T = np.shape(rasters)[-1]\n",
    "    \n",
    "    #n_speeds = np.shape(rasters)[2]\n",
    "    #n_shapes = np.shape(rasters)[3]\n",
    "    \n",
    "    joint_raster = np.zeros((N,1))\n",
    "    for speed_i in range(n_speeds):\n",
    "        for shape_i in range(n_shapes):\n",
    "            joint_raster = np.concatenate([joint_raster, rasters[:,:,speed_i,shape_i]], axis=1)\n",
    "        \n",
    "    joint_raster = joint_raster[:,1:]\n",
    "    return joint_raster"
   ]
  },
  {
   "cell_type": "markdown",
   "metadata": {},
   "source": [
    "## Run simulations"
   ]
  },
  {
   "cell_type": "code",
   "execution_count": 21,
   "metadata": {
    "tags": []
   },
   "outputs": [
    {
     "name": "stderr",
     "output_type": "stream",
     "text": [
      "/home/andrew/Documents/projects/submanifolds/submission_dynamic_control/code/submanifolds/ringnet/parameters.py:66: UserWarning: Recurrent weights were rescaled due to selective inhibition and transient excitatory burst input.\n",
      "  warnings.warn('Recurrent weights were rescaled due to selective inhibition and transient excitatory burst input.')\n"
     ]
    },
    {
     "name": "stdout",
     "output_type": "stream",
     "text": [
      "0.0\n",
      "0.1\n",
      "0.2\n",
      "0.3\n",
      "0.4\n",
      "0.5\n",
      "0.6\n",
      "0.7\n",
      "0.8\n",
      "0.9\n"
     ]
    }
   ],
   "source": [
    "for p_i, p in enumerate(perc_sel):\n",
    "    for k, seed in enumerate(seeds):\n",
    "        params_to_update = {'keys':     ['N','sigma_percent', 'shift_percent', 'T', '_w_E', 'p_inh', 'seed', 'stim', 'type'], \n",
    "                            'setting':  [N, sigma, shift, T, _w_E, p, seed, 'transient', 'projection']}\n",
    "\n",
    "        params = Parameters(params_to_update)\n",
    "\n",
    "        # generate initial condition\n",
    "        S = speeds[0]*np.ones(T)\n",
    "        net = RingNetworkVariableSpeed(params, S=S, tau=tau, r_max=r_max) \n",
    "        initial_t = 250\n",
    "        center = 0\n",
    "        x = net.params.x\n",
    "        width = int(net.params.sigma)\n",
    "        max_active = net.params.P * r_max[0]\n",
    "        initial_r = max_active * np.exp(-0.5 * (x - center)**2 / (width)**2)\n",
    "        params.initial_r = initial_r\n",
    "        net.run()\n",
    "        initial_r = net.R[:,initial_t]\n",
    "        params.initial_r = initial_r\n",
    "\n",
    "        for j, A in enumerate(shapes):\n",
    "            I_ext = gaussian(np.arange(T), A, t_shape_input, sd_shape_input)\n",
    "\n",
    "            for i, I_E in enumerate(speeds):\n",
    "                #I_ext = gaussian(np.arange(T), A, t_shape_input, sd_shape_input[i])\n",
    "                S = I_E*np.ones(T)\n",
    "                net = RingNetworkVariableSpeed(params, S=S, tau=tau, r_max=r_max, I_ext=I_ext) \n",
    "                net.run()\n",
    "                active_neurons[p_i,i,j,k,:] = np.sum(net.R > 0, axis=0)\n",
    "                average_rate[p_i,i,j,k,:] = np.mean(net.R, axis=0)\n",
    "                raster[p_i,i,j,k,:,:] = net.R\n",
    "    print(p)"
   ]
  },
  {
   "cell_type": "code",
   "execution_count": 22,
   "metadata": {},
   "outputs": [],
   "source": [
    "plot = Plot()"
   ]
  },
  {
   "cell_type": "code",
   "execution_count": 26,
   "metadata": {},
   "outputs": [
    {
     "data": {
      "image/png": "[encoded data removed]",
      "text/plain": [
       "<Figure size 432x216 with 2 Axes>"
      ]
     },
     "metadata": {
      "needs_background": "light"
     },
     "output_type": "display_data"
    }
   ],
   "source": [
    "perc = -2\n",
    "speed = -1\n",
    "traj = 0\n",
    "seed = 4\n",
    "point = (perc, speed, traj, seed)\n",
    "plot.activity_raster(raster[point][:,:251])"
   ]
  },
  {
   "cell_type": "markdown",
   "metadata": {},
   "source": [
    "## Effect of speed and shape on rotation"
   ]
  },
  {
   "cell_type": "code",
   "execution_count": 27,
   "metadata": {},
   "outputs": [
    {
     "name": "stdout",
     "output_type": "stream",
     "text": [
      ": 1000/1000"
     ]
    }
   ],
   "source": [
    "total_iterations = n_perc_sel * n_speeds * n_shapes * n_seeds\n",
    "status = Status(total_iterations)\n",
    "K = 2\n",
    "size = (n_perc_sel, n_speeds, n_shapes, n_seeds, K, N)\n",
    "basis = np.zeros(size)\n",
    "\n",
    "for p_i, p in enumerate(perc_sel):\n",
    "    for subspace_i, subspace in enumerate(seeds):        \n",
    "        for speed_i, speed in enumerate(speeds):\n",
    "            for shape_i, shape in enumerate(shapes):\n",
    "                point = (p_i, speed_i, shape_i, subspace_i)\n",
    "                basis[point] = compute_pca(raster[point], n_components=K)[0].components_\n",
    "                status.it()"
   ]
  },
  {
   "cell_type": "code",
   "execution_count": 28,
   "metadata": {},
   "outputs": [],
   "source": [
    "size = (n_perc_sel, n_speeds, n_shapes, int(n_seeds*(n_seeds-1)/2))\n",
    "angles = np.zeros(size)\n",
    "for p_i, p in enumerate(perc_sel):    \n",
    "    for speed_i, speed in enumerate(speeds):\n",
    "        for shape_i, shape in enumerate(shapes):\n",
    "            count = 0\n",
    "            for subspace_i in range(n_seeds):\n",
    "                pt_1 = (p_i, speed_i, shape_i, subspace_i)\n",
    "                for subspace_j in range(subspace_i+1, n_seeds):\n",
    "                    pt_2 = (p_i, speed_i, shape_i, subspace_j)\n",
    "                    angles[pt_1[:-1]][count] = compute_subspace_angle(basis[pt_1], basis[pt_2])\n",
    "                    count += 1"
   ]
  },
  {
   "cell_type": "code",
   "execution_count": 29,
   "metadata": {},
   "outputs": [
    {
     "name": "stderr",
     "output_type": "stream",
     "text": [
      "/tmp/ipykernel_4200/1567809555.py:21: UserWarning: FixedFormatter should only be used together with FixedLocator\n",
      "  cbar.set_ticklabels(np.arange(0,90,10), fontsize=13)\n"
     ]
    },
    {
     "data": {
      "image/png": "[encoded data removed]",
      "text/plain": [
       "<Figure size 612x288 with 11 Axes>"
      ]
     },
     "metadata": {
      "needs_background": "light"
     },
     "output_type": "display_data"
    }
   ],
   "source": [
    "fname='angle_rasters_for_different_speeds_and_shapes'\n",
    "fig, axes = plt.subplots(2, 5, figsize=(8.5,4), sharex=True, sharey=True, layout='constrained')\n",
    "\n",
    "for p_i, ax in enumerate(axes.flat):\n",
    "    mean_angles = angles[p_i,:,:,:].mean(axis=2)\n",
    "    im = ax.imshow(mean_angles, vmin=0,vmax=85, aspect='auto')\n",
    "    ax.set_xticks(np.arange(n_shapes), shapes, fontsize=12) # rotation=45)\n",
    "    ax.set_yticks(np.arange(n_speeds), speeds, fontsize=12)\n",
    "    for label in ax.xaxis.get_ticklabels()[1::2]:\n",
    "        label.set_visible(False)\n",
    "\n",
    "    ax.set_title('$p=$'+ str(perc_sel[p_i].round(2)), fontsize=18)\n",
    "    \n",
    "cax = fig.add_axes([ax.get_position().x1+0.12,\n",
    "                    ax.get_position().y0+.06,\n",
    "                    0.025,\n",
    "                    2.15*ax.get_position().height])\n",
    "cbar = plt.colorbar(im, cax=cax) # Similar to fig.colorbar(im, cax = cax)\n",
    "cbar.set_label(label='angle',size=18)\n",
    "cbar.set_ticklabels(np.arange(0,90,10), fontsize=13)\n",
    "\n",
    "fig.supxlabel('shape input, $E-I$', fontsize=20)\n",
    "fig.supylabel('speed input, $S$', fontsize=20)\n",
    "\n",
    "if save_figs_flag:\n",
    "    plt.savefig(fig_dir+fname + '.png', dpi=200, bbox_inches=\"tight\")\n",
    "    plt.savefig(fig_dir+fname + '.pdf', bbox_inches=\"tight\")\n",
    "plt.show()"
   ]
  },
  {
   "cell_type": "code",
   "execution_count": 30,
   "metadata": {},
   "outputs": [],
   "source": [
    "colors_viridis = plt.cm.viridis(np.linspace(0,1,n_perc_sel))"
   ]
  },
  {
   "cell_type": "code",
   "execution_count": 31,
   "metadata": {},
   "outputs": [
    {
     "data": {
      "image/png": "[encoded data removed]",
      "text/plain": [
       "<Figure size 252x360 with 1 Axes>"
      ]
     },
     "metadata": {
      "needs_background": "light"
     },
     "output_type": "display_data"
    }
   ],
   "source": [
    "fname='angle_vs_perc_inh_curve'\n",
    "fig, ax = plt.subplots(figsize=(3.5,5))\n",
    "\n",
    "speed_i = 0\n",
    "traj_i = baseline_traj\n",
    "\n",
    "for i in range(n_perc_sel):\n",
    "    plt.scatter(perc_sel[i]*np.ones(int(n_seeds*(n_seeds-1)/2)), angles[i,speed_i,traj_i,:], color=colors_viridis[i])\n",
    "\n",
    "p_x = np.arange(0,1,0.01)\n",
    "plt.plot(p_x, (180/np.pi)*np.arccos(1-p_x), color='black', alpha=0.7)\n",
    "plt.xlabel('fraction silenced ($p_{inh}$)', fontsize=20)\n",
    "plt.xticks(fontsize=16)\n",
    "plt.ylabel('subspace rotation', fontsize=20)\n",
    "plt.yticks(fontsize=16)\n",
    "plt.ylim(0,90)\n",
    "plt.grid('on')\n",
    "ax.set_axisbelow(True)\n",
    "if save_figs_flag:\n",
    "    plt.savefig(fig_dir+fname + '.png', dpi=200, bbox_inches=\"tight\")\n",
    "    plt.savefig(fig_dir+fname + '.pdf', bbox_inches=\"tight\")\n",
    "plt.show()"
   ]
  },
  {
   "cell_type": "code",
   "execution_count": null,
   "metadata": {},
   "outputs": [],
   "source": []
  }
 ],
 "metadata": {
  "kernelspec": {
   "display_name": "Python 3 (ipykernel)",
   "language": "python",
   "name": "python3"
  },
  "language_info": {
   "codemirror_mode": {
    "name": "ipython",
    "version": 3
   },
   "file_extension": ".py",
   "mimetype": "text/x-python",
   "name": "python",
   "nbconvert_exporter": "python",
   "pygments_lexer": "ipython3",
   "version": "3.8.10"
  }
 },
 "nbformat": 4,
 "nbformat_minor": 4
}
